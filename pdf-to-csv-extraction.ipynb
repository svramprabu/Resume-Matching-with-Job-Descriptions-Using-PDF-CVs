{
 "cells": [
  {
   "cell_type": "code",
   "execution_count": 1,
   "id": "fc48b3e9-78b2-42da-8b9d-50e68c161d55",
   "metadata": {
    "tags": []
   },
   "outputs": [],
   "source": [
    "import os\n",
    "from pypdf import PdfReader\n",
    "import pandas as pd"
   ]
  },
  {
   "cell_type": "code",
   "execution_count": 2,
   "id": "c713ba0c-45ed-4c22-a724-03c14d44ae03",
   "metadata": {
    "tags": []
   },
   "outputs": [
    {
     "data": {
      "text/plain": [
       "'/Users/svr/Documents/GitHub/Resume-Matching-with-Job-Descriptions-Using-PDF-CVs'"
      ]
     },
     "execution_count": 2,
     "metadata": {},
     "output_type": "execute_result"
    }
   ],
   "source": [
    "os.getcwd()\n"
   ]
  },
  {
   "cell_type": "code",
   "execution_count": 5,
   "id": "69d3ba13-ccca-4da1-b000-4ad9f69b4d4e",
   "metadata": {
    "tags": []
   },
   "outputs": [],
   "source": [
    "path_to_resume_catergories=os.getcwd()+'/archive/data/data'\n",
    "list_of_catergories=os.listdir(os.getcwd()+'/archive/data/data')\n",
    "df=pd.DataFrame(columns=['Category','File_name','resume_text'])\n",
    "for each_catergory in list_of_catergories[:5]:\n",
    "    # print(each_catergory)\n",
    "    # print(type(each_catergory))\n",
    "    list_of_pdf_in_each_category = os.listdir(path_to_resume_catergories+'/'+each_catergory)\n",
    "    for each_pdf in list_of_pdf_in_each_category[:3]:\n",
    "        # print(each_pdf)\n",
    "        pdf_path=path_to_resume_catergories+'/'+each_catergory+'/'+each_pdf\n",
    "        reader = PdfReader(pdf_path)\n",
    "        number_of_pages = len(reader.pages)\n",
    "        text=''\n",
    "        for each in range(number_of_pages):\n",
    "            page = reader.pages[each]\n",
    "            text = text+page.extract_text()\n",
    "        # print(text[:100])\n",
    "        row_data=[[each_catergory,each_pdf,text]]\n",
    "        row_df=(pd.DataFrame(row_data,columns=['Category','File_name','resume_text']))\n",
    "        df=pd.merge(df,row_df,how='outer')"
   ]
  },
  {
   "cell_type": "code",
   "execution_count": 6,
   "id": "079c02e3-5cee-4030-bac2-2363c2712a49",
   "metadata": {
    "tags": []
   },
   "outputs": [
    {
     "data": {
      "text/html": [
       "<div>\n",
       "<style scoped>\n",
       "    .dataframe tbody tr th:only-of-type {\n",
       "        vertical-align: middle;\n",
       "    }\n",
       "\n",
       "    .dataframe tbody tr th {\n",
       "        vertical-align: top;\n",
       "    }\n",
       "\n",
       "    .dataframe thead th {\n",
       "        text-align: right;\n",
       "    }\n",
       "</style>\n",
       "<table border=\"1\" class=\"dataframe\">\n",
       "  <thead>\n",
       "    <tr style=\"text-align: right;\">\n",
       "      <th></th>\n",
       "      <th>Category</th>\n",
       "      <th>File_name</th>\n",
       "      <th>resume_text</th>\n",
       "    </tr>\n",
       "  </thead>\n",
       "  <tbody>\n",
       "    <tr>\n",
       "      <th>0</th>\n",
       "      <td>AGRICULTURE</td>\n",
       "      <td>37201447.pdf</td>\n",
       "      <td>ADULT EDUCATION INSTRUCTOR\\nSummary\\nSeasoned ...</td>\n",
       "    </tr>\n",
       "    <tr>\n",
       "      <th>1</th>\n",
       "      <td>AGRICULTURE</td>\n",
       "      <td>12674256.pdf</td>\n",
       "      <td>FINANCIAL SALES CONSULTANT\\nProfessional Summa...</td>\n",
       "    </tr>\n",
       "    <tr>\n",
       "      <th>2</th>\n",
       "      <td>AGRICULTURE</td>\n",
       "      <td>29968330.pdf</td>\n",
       "      <td>EXTENSION METHODOLOGIST\\nProfile\\nSelf-motivat...</td>\n",
       "    </tr>\n",
       "    <tr>\n",
       "      <th>3</th>\n",
       "      <td>ARTS</td>\n",
       "      <td>25157655.pdf</td>\n",
       "      <td>INSIDE ACCOUNT MANAGER\\nSummary\\nInside Accoun...</td>\n",
       "    </tr>\n",
       "    <tr>\n",
       "      <th>4</th>\n",
       "      <td>ARTS</td>\n",
       "      <td>12334650.pdf</td>\n",
       "      <td>FOOD SERVER\\nSummary\\nI have sixteen years of ...</td>\n",
       "    </tr>\n",
       "    <tr>\n",
       "      <th>5</th>\n",
       "      <td>ARTS</td>\n",
       "      <td>94230796.pdf</td>\n",
       "      <td>LIBRARY AIDE ( FULL-TIME)\\nProfessional Summar...</td>\n",
       "    </tr>\n",
       "    <tr>\n",
       "      <th>6</th>\n",
       "      <td>SALES</td>\n",
       "      <td>23032182.pdf</td>\n",
       "      <td>SALES ASSOCIATE\\nABIGAIL\\n \\nFULTON\\nAccomplis...</td>\n",
       "    </tr>\n",
       "    <tr>\n",
       "      <th>7</th>\n",
       "      <td>SALES</td>\n",
       "      <td>24610685.pdf</td>\n",
       "      <td>SALES ENGINEER\\nSummary\\nI am currently lookin...</td>\n",
       "    </tr>\n",
       "    <tr>\n",
       "      <th>8</th>\n",
       "      <td>SALES</td>\n",
       "      <td>17781039.pdf</td>\n",
       "      <td>SALES\\nProfessional Summary\\nExperienced manag...</td>\n",
       "    </tr>\n",
       "    <tr>\n",
       "      <th>9</th>\n",
       "      <td>CONSULTANT</td>\n",
       "      <td>57364820.pdf</td>\n",
       "      <td>SR. CONSULTANT\\nProfessional Summary\\nA dedica...</td>\n",
       "    </tr>\n",
       "    <tr>\n",
       "      <th>10</th>\n",
       "      <td>CONSULTANT</td>\n",
       "      <td>22351830.pdf</td>\n",
       "      <td>CONSULTANT\\nSummary\\n7 years of professional I...</td>\n",
       "    </tr>\n",
       "    <tr>\n",
       "      <th>11</th>\n",
       "      <td>CONSULTANT</td>\n",
       "      <td>48533663.pdf</td>\n",
       "      <td>CONSULTANT\\nExecutive Profile\\nVisionary Opera...</td>\n",
       "    </tr>\n",
       "    <tr>\n",
       "      <th>12</th>\n",
       "      <td>DIGITAL-MEDIA</td>\n",
       "      <td>14945250.pdf</td>\n",
       "      <td>DIGITAL MEDIA CONSULTANT\\nSummary\\nDynamic and...</td>\n",
       "    </tr>\n",
       "    <tr>\n",
       "      <th>13</th>\n",
       "      <td>DIGITAL-MEDIA</td>\n",
       "      <td>14556869.pdf</td>\n",
       "      <td>DIGITAL MARKETING INTERN\\nEducation\\n2015\\nBac...</td>\n",
       "    </tr>\n",
       "    <tr>\n",
       "      <th>14</th>\n",
       "      <td>DIGITAL-MEDIA</td>\n",
       "      <td>29002596.pdf</td>\n",
       "      <td>DIRECTOR, GLOBAL DIGITAL MARKETING\\nExecutive ...</td>\n",
       "    </tr>\n",
       "  </tbody>\n",
       "</table>\n",
       "</div>"
      ],
      "text/plain": [
       "         Category     File_name  \\\n",
       "0     AGRICULTURE  37201447.pdf   \n",
       "1     AGRICULTURE  12674256.pdf   \n",
       "2     AGRICULTURE  29968330.pdf   \n",
       "3            ARTS  25157655.pdf   \n",
       "4            ARTS  12334650.pdf   \n",
       "5            ARTS  94230796.pdf   \n",
       "6           SALES  23032182.pdf   \n",
       "7           SALES  24610685.pdf   \n",
       "8           SALES  17781039.pdf   \n",
       "9      CONSULTANT  57364820.pdf   \n",
       "10     CONSULTANT  22351830.pdf   \n",
       "11     CONSULTANT  48533663.pdf   \n",
       "12  DIGITAL-MEDIA  14945250.pdf   \n",
       "13  DIGITAL-MEDIA  14556869.pdf   \n",
       "14  DIGITAL-MEDIA  29002596.pdf   \n",
       "\n",
       "                                          resume_text  \n",
       "0   ADULT EDUCATION INSTRUCTOR\\nSummary\\nSeasoned ...  \n",
       "1   FINANCIAL SALES CONSULTANT\\nProfessional Summa...  \n",
       "2   EXTENSION METHODOLOGIST\\nProfile\\nSelf-motivat...  \n",
       "3   INSIDE ACCOUNT MANAGER\\nSummary\\nInside Accoun...  \n",
       "4   FOOD SERVER\\nSummary\\nI have sixteen years of ...  \n",
       "5   LIBRARY AIDE ( FULL-TIME)\\nProfessional Summar...  \n",
       "6   SALES ASSOCIATE\\nABIGAIL\\n \\nFULTON\\nAccomplis...  \n",
       "7   SALES ENGINEER\\nSummary\\nI am currently lookin...  \n",
       "8   SALES\\nProfessional Summary\\nExperienced manag...  \n",
       "9   SR. CONSULTANT\\nProfessional Summary\\nA dedica...  \n",
       "10  CONSULTANT\\nSummary\\n7 years of professional I...  \n",
       "11  CONSULTANT\\nExecutive Profile\\nVisionary Opera...  \n",
       "12  DIGITAL MEDIA CONSULTANT\\nSummary\\nDynamic and...  \n",
       "13  DIGITAL MARKETING INTERN\\nEducation\\n2015\\nBac...  \n",
       "14  DIRECTOR, GLOBAL DIGITAL MARKETING\\nExecutive ...  "
      ]
     },
     "execution_count": 6,
     "metadata": {},
     "output_type": "execute_result"
    }
   ],
   "source": [
    "df"
   ]
  },
  {
   "cell_type": "code",
   "execution_count": 7,
   "id": "733bbc33-90ab-4121-bcf3-820a6f1e7ae2",
   "metadata": {
    "tags": []
   },
   "outputs": [],
   "source": [
    "df.to_csv('resume_data.csv')"
   ]
  },
  {
   "cell_type": "code",
   "execution_count": null,
   "id": "6017cf60-74da-426c-946a-58674d9b8fe3",
   "metadata": {},
   "outputs": [],
   "source": []
  }
 ],
 "metadata": {
  "kernelspec": {
   "display_name": "Python 3 (ipykernel)",
   "language": "python",
   "name": "python3"
  },
  "language_info": {
   "codemirror_mode": {
    "name": "ipython",
    "version": 3
   },
   "file_extension": ".py",
   "mimetype": "text/x-python",
   "name": "python",
   "nbconvert_exporter": "python",
   "pygments_lexer": "ipython3",
   "version": "3.11.4"
  }
 },
 "nbformat": 4,
 "nbformat_minor": 5
}
