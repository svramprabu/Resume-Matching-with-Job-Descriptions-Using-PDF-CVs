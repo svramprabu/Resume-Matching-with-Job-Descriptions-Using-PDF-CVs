{
 "cells": [
  {
   "cell_type": "code",
   "execution_count": 2,
   "id": "fc48b3e9-78b2-42da-8b9d-50e68c161d55",
   "metadata": {
    "tags": []
   },
   "outputs": [],
   "source": [
    "import os\n",
    "from pypdf import PdfReader\n",
    "import pandas as pd"
   ]
  },
  {
   "cell_type": "code",
   "execution_count": 3,
   "id": "c713ba0c-45ed-4c22-a724-03c14d44ae03",
   "metadata": {
    "tags": []
   },
   "outputs": [
    {
     "data": {
      "text/plain": [
       "'/Users/svr/Documents/GitHub/Resume-Matching-with-Job-Descriptions-Using-PDF-CVs'"
      ]
     },
     "execution_count": 3,
     "metadata": {},
     "output_type": "execute_result"
    }
   ],
   "source": [
    "os.getcwd()\n"
   ]
  },
  {
   "cell_type": "code",
   "execution_count": 6,
   "id": "69d3ba13-ccca-4da1-b000-4ad9f69b4d4e",
   "metadata": {
    "tags": []
   },
   "outputs": [],
   "source": [
    "path_to_resume_catergories=os.getcwd()+'/archive/data/data'\n",
    "list_of_catergories=os.listdir(os.getcwd()+'/archive/data/data')\n",
    "df=pd.DataFrame(columns=['Category','File_name','resume_text'])\n",
    "for each_catergory in list_of_catergories:\n",
    "    # print(each_catergory)\n",
    "    # print(type(each_catergory))\n",
    "    list_of_pdf_in_each_category = os.listdir(path_to_resume_catergories+'/'+each_catergory)\n",
    "    for each_pdf in list_of_pdf_in_each_category[:5]:\n",
    "        # print(each_pdf)\n",
    "        pdf_path=path_to_resume_catergories+'/'+each_catergory+'/'+each_pdf\n",
    "        reader = PdfReader(pdf_path)\n",
    "        number_of_pages = len(reader.pages)\n",
    "        text=''\n",
    "        for each in range(number_of_pages):\n",
    "            page = reader.pages[each]\n",
    "            text = text+page.extract_text()\n",
    "        # print(text[:100])\n",
    "        row_data=[[each_catergory,each_pdf,text]]\n",
    "        row_df=(pd.DataFrame(row_data,columns=['Category','File_name','resume_text']))\n",
    "        df=pd.merge(df,row_df,how='outer')"
   ]
  },
  {
   "cell_type": "code",
   "execution_count": 7,
   "id": "079c02e3-5cee-4030-bac2-2363c2712a49",
   "metadata": {
    "tags": []
   },
   "outputs": [
    {
     "data": {
      "text/html": [
       "<div>\n",
       "<style scoped>\n",
       "    .dataframe tbody tr th:only-of-type {\n",
       "        vertical-align: middle;\n",
       "    }\n",
       "\n",
       "    .dataframe tbody tr th {\n",
       "        vertical-align: top;\n",
       "    }\n",
       "\n",
       "    .dataframe thead th {\n",
       "        text-align: right;\n",
       "    }\n",
       "</style>\n",
       "<table border=\"1\" class=\"dataframe\">\n",
       "  <thead>\n",
       "    <tr style=\"text-align: right;\">\n",
       "      <th></th>\n",
       "      <th>Category</th>\n",
       "      <th>File_name</th>\n",
       "      <th>resume_text</th>\n",
       "    </tr>\n",
       "  </thead>\n",
       "  <tbody>\n",
       "    <tr>\n",
       "      <th>0</th>\n",
       "      <td>AGRICULTURE</td>\n",
       "      <td>37201447.pdf</td>\n",
       "      <td>ADULT EDUCATION INSTRUCTOR\\nSummary\\nSeasoned ...</td>\n",
       "    </tr>\n",
       "    <tr>\n",
       "      <th>1</th>\n",
       "      <td>AGRICULTURE</td>\n",
       "      <td>12674256.pdf</td>\n",
       "      <td>FINANCIAL SALES CONSULTANT\\nProfessional Summa...</td>\n",
       "    </tr>\n",
       "    <tr>\n",
       "      <th>2</th>\n",
       "      <td>AGRICULTURE</td>\n",
       "      <td>29968330.pdf</td>\n",
       "      <td>EXTENSION METHODOLOGIST\\nProfile\\nSelf-motivat...</td>\n",
       "    </tr>\n",
       "    <tr>\n",
       "      <th>3</th>\n",
       "      <td>AGRICULTURE</td>\n",
       "      <td>81042872.pdf</td>\n",
       "      <td>RESEARCH SCIENTIST\\nSummary\\nHighly motivated ...</td>\n",
       "    </tr>\n",
       "    <tr>\n",
       "      <th>4</th>\n",
       "      <td>AGRICULTURE</td>\n",
       "      <td>20006992.pdf</td>\n",
       "      <td>FRONT DESK CLERK (FEE BASIS, JOHN D DINGELL VA...</td>\n",
       "    </tr>\n",
       "    <tr>\n",
       "      <th>...</th>\n",
       "      <td>...</td>\n",
       "      <td>...</td>\n",
       "      <td>...</td>\n",
       "    </tr>\n",
       "    <tr>\n",
       "      <th>115</th>\n",
       "      <td>AUTOMOBILE</td>\n",
       "      <td>82140102.pdf</td>\n",
       "      <td>ADJUSTER\\nExperience\\nAdjuster\\n \\n, \\n07/2018...</td>\n",
       "    </tr>\n",
       "    <tr>\n",
       "      <th>116</th>\n",
       "      <td>AUTOMOBILE</td>\n",
       "      <td>24703983.pdf</td>\n",
       "      <td>ACCOUNTANT\\nSummary\\nExperienced accounting pr...</td>\n",
       "    </tr>\n",
       "    <tr>\n",
       "      <th>117</th>\n",
       "      <td>AUTOMOBILE</td>\n",
       "      <td>22452756.pdf</td>\n",
       "      <td>SERVICES ENGINEER\\nSummary\\nSeeking a challeng...</td>\n",
       "    </tr>\n",
       "    <tr>\n",
       "      <th>118</th>\n",
       "      <td>AUTOMOBILE</td>\n",
       "      <td>14455622.pdf</td>\n",
       "      <td>PROPOSAL COORDINATOR\\nExperience\\nProposal Coo...</td>\n",
       "    </tr>\n",
       "    <tr>\n",
       "      <th>119</th>\n",
       "      <td>AUTOMOBILE</td>\n",
       "      <td>28790806.pdf</td>\n",
       "      <td>DATASTAGE ETL DEVELOPER\\nSummary\\nI have 6 yea...</td>\n",
       "    </tr>\n",
       "  </tbody>\n",
       "</table>\n",
       "<p>120 rows × 3 columns</p>\n",
       "</div>"
      ],
      "text/plain": [
       "        Category     File_name  \\\n",
       "0    AGRICULTURE  37201447.pdf   \n",
       "1    AGRICULTURE  12674256.pdf   \n",
       "2    AGRICULTURE  29968330.pdf   \n",
       "3    AGRICULTURE  81042872.pdf   \n",
       "4    AGRICULTURE  20006992.pdf   \n",
       "..           ...           ...   \n",
       "115   AUTOMOBILE  82140102.pdf   \n",
       "116   AUTOMOBILE  24703983.pdf   \n",
       "117   AUTOMOBILE  22452756.pdf   \n",
       "118   AUTOMOBILE  14455622.pdf   \n",
       "119   AUTOMOBILE  28790806.pdf   \n",
       "\n",
       "                                           resume_text  \n",
       "0    ADULT EDUCATION INSTRUCTOR\\nSummary\\nSeasoned ...  \n",
       "1    FINANCIAL SALES CONSULTANT\\nProfessional Summa...  \n",
       "2    EXTENSION METHODOLOGIST\\nProfile\\nSelf-motivat...  \n",
       "3    RESEARCH SCIENTIST\\nSummary\\nHighly motivated ...  \n",
       "4    FRONT DESK CLERK (FEE BASIS, JOHN D DINGELL VA...  \n",
       "..                                                 ...  \n",
       "115  ADJUSTER\\nExperience\\nAdjuster\\n \\n, \\n07/2018...  \n",
       "116  ACCOUNTANT\\nSummary\\nExperienced accounting pr...  \n",
       "117  SERVICES ENGINEER\\nSummary\\nSeeking a challeng...  \n",
       "118  PROPOSAL COORDINATOR\\nExperience\\nProposal Coo...  \n",
       "119  DATASTAGE ETL DEVELOPER\\nSummary\\nI have 6 yea...  \n",
       "\n",
       "[120 rows x 3 columns]"
      ]
     },
     "execution_count": 7,
     "metadata": {},
     "output_type": "execute_result"
    }
   ],
   "source": [
    "df"
   ]
  },
  {
   "cell_type": "code",
   "execution_count": 8,
   "id": "733bbc33-90ab-4121-bcf3-820a6f1e7ae2",
   "metadata": {
    "tags": []
   },
   "outputs": [],
   "source": [
    "df.to_csv('resume_data.csv')"
   ]
  },
  {
   "cell_type": "code",
   "execution_count": null,
   "id": "6017cf60-74da-426c-946a-58674d9b8fe3",
   "metadata": {},
   "outputs": [],
   "source": []
  }
 ],
 "metadata": {
  "kernelspec": {
   "display_name": "Python 3 (ipykernel)",
   "language": "python",
   "name": "python3"
  },
  "language_info": {
   "codemirror_mode": {
    "name": "ipython",
    "version": 3
   },
   "file_extension": ".py",
   "mimetype": "text/x-python",
   "name": "python",
   "nbconvert_exporter": "python",
   "pygments_lexer": "ipython3",
   "version": "3.11.4"
  }
 },
 "nbformat": 4,
 "nbformat_minor": 5
}
